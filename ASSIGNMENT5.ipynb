{
 "cells": [
  {
   "cell_type": "code",
   "execution_count": 1,
   "id": "685dfb9e",
   "metadata": {},
   "outputs": [],
   "source": [
    "a={}"
   ]
  },
  {
   "cell_type": "code",
   "execution_count": 10,
   "id": "076bd44c",
   "metadata": {},
   "outputs": [
    {
     "data": {
      "text/plain": [
       "{'': ' '}"
      ]
     },
     "execution_count": 10,
     "metadata": {},
     "output_type": "execute_result"
    }
   ],
   "source": [
    "a"
   ]
  },
  {
   "cell_type": "code",
   "execution_count": 3,
   "id": "afe71546",
   "metadata": {},
   "outputs": [],
   "source": [
    "d={'foo':42}"
   ]
  },
  {
   "cell_type": "code",
   "execution_count": 19,
   "id": "b44d5b23",
   "metadata": {},
   "outputs": [
    {
     "name": "stdout",
     "output_type": "stream",
     "text": [
      "dict_values([42])\n"
     ]
    }
   ],
   "source": [
    "print(d.values())"
   ]
  },
  {
   "cell_type": "code",
   "execution_count": null,
   "id": "e4207962",
   "metadata": {},
   "outputs": [],
   "source": [
    "dictionary stores the data in the form of keys and its values\n",
    "list is collection of elememts and it is mutable"
   ]
  },
  {
   "cell_type": "code",
   "execution_count": 6,
   "id": "ae2ea3f9",
   "metadata": {},
   "outputs": [],
   "source": [
    "spam={'bar':100}"
   ]
  },
  {
   "cell_type": "code",
   "execution_count": 7,
   "id": "5ad8562c",
   "metadata": {},
   "outputs": [
    {
     "ename": "KeyError",
     "evalue": "'foo'",
     "output_type": "error",
     "traceback": [
      "\u001b[1;31m---------------------------------------------------------------------------\u001b[0m",
      "\u001b[1;31mKeyError\u001b[0m                                  Traceback (most recent call last)",
      "Input \u001b[1;32mIn [7]\u001b[0m, in \u001b[0;36m<cell line: 1>\u001b[1;34m()\u001b[0m\n\u001b[1;32m----> 1\u001b[0m \u001b[43mspam\u001b[49m\u001b[43m[\u001b[49m\u001b[38;5;124;43m'\u001b[39;49m\u001b[38;5;124;43mfoo\u001b[39;49m\u001b[38;5;124;43m'\u001b[39;49m\u001b[43m]\u001b[49m\n",
      "\u001b[1;31mKeyError\u001b[0m: 'foo'"
     ]
    }
   ],
   "source": [
    "spam['foo']"
   ]
  },
  {
   "cell_type": "code",
   "execution_count": null,
   "id": "7475caa4",
   "metadata": {},
   "outputs": [],
   "source": [
    "'cat' in spam is an element\n",
    "'cat' in spam.keys() means it is a keyvalue position"
   ]
  },
  {
   "cell_type": "code",
   "execution_count": null,
   "id": "f34873f0",
   "metadata": {},
   "outputs": [],
   "source": [
    "'cat' in spam is an element\n",
    "'cat' in spam.values() means it is a value for a key"
   ]
  },
  {
   "cell_type": "code",
   "execution_count": 9,
   "id": "280a5ce5",
   "metadata": {},
   "outputs": [],
   "source": [
    "if 'color' not in spam:\n",
    "    spam['color']='black'\n"
   ]
  },
  {
   "cell_type": "code",
   "execution_count": null,
   "id": "be2d09d1",
   "metadata": {},
   "outputs": [],
   "source": [
    "pprint()"
   ]
  }
 ],
 "metadata": {
  "kernelspec": {
   "display_name": "Python 3 (ipykernel)",
   "language": "python",
   "name": "python3"
  },
  "language_info": {
   "codemirror_mode": {
    "name": "ipython",
    "version": 3
   },
   "file_extension": ".py",
   "mimetype": "text/x-python",
   "name": "python",
   "nbconvert_exporter": "python",
   "pygments_lexer": "ipython3",
   "version": "3.9.12"
  }
 },
 "nbformat": 4,
 "nbformat_minor": 5
}
